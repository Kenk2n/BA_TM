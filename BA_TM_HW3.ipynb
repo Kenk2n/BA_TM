{
 "cells": [
  {
   "cell_type": "markdown",
   "metadata": {},
   "source": [
    "## 캡스톤 3차과제\n",
    "\n",
    "#### Crawling_execise1"
   ]
  },
  {
   "cell_type": "code",
   "execution_count": 12,
   "metadata": {},
   "outputs": [],
   "source": [
    "from urllib import request as rq\n",
    "\n",
    "## ssl 에러 \n",
    "import ssl\n",
    "context = ssl._create_unverified_context()\n"
   ]
  },
  {
   "cell_type": "markdown",
   "metadata": {},
   "source": [
    "- urllib.request를 사용하여 다운하기 "
   ]
  },
  {
   "cell_type": "code",
   "execution_count": 23,
   "metadata": {
    "scrolled": true
   },
   "outputs": [
    {
     "name": "stdout",
     "output_type": "stream",
     "text": [
      "저장되었습니다.\n"
     ]
    }
   ],
   "source": [
    "url = \"http://uta.pw/shodou/img/28/214.png\"\n",
    "\n",
    "savename = 'test.png'\n",
    "\n",
    "rq.urlretrieve(url, savename)\n",
    "print(\"저장되었습니다.\")\n",
    "\n",
    "### ssl 에러  python3.8 > Install Certificates.command 파일 실행 "
   ]
  },
  {
   "cell_type": "markdown",
   "metadata": {},
   "source": [
    "- url open 으로 파일저장"
   ]
  },
  {
   "cell_type": "code",
   "execution_count": 18,
   "metadata": {},
   "outputs": [
    {
     "name": "stdout",
     "output_type": "stream",
     "text": [
      "저장되었습니다..\n"
     ]
    }
   ],
   "source": [
    "# URL과 저장경로 지정하기\n",
    "url = \"http://uta.pw/shodou/img/28/214.png\"\n",
    "savename = \"test1.png\"\n",
    "#다운로드\n",
    "mem = rq.urlopen(url).read()\n",
    "#파일로 저장하기, wb는 쓰기와 바이너리모드\n",
    "with open(savename, mode=\"wb\") as f:\n",
    "    f.write(mem)\n",
    "    print(\"저장되었습니다..\")"
   ]
  },
  {
   "cell_type": "markdown",
   "metadata": {},
   "source": [
    "- API 사용하기 "
   ]
  },
  {
   "cell_type": "code",
   "execution_count": 21,
   "metadata": {
    "scrolled": true
   },
   "outputs": [
    {
     "name": "stdout",
     "output_type": "stream",
     "text": [
      "[ip]\n",
      "API_URI=http://api.aoikujira.com/ip/get.php\n",
      "REMOTE_ADDR=121.167.35.45\n",
      "REMOTE_HOST=121.167.35.45\n",
      "REMOTE_PORT=39058\n",
      "HTTP_HOST=api.aoikujira.com\n",
      "HTTP_USER_AGENT=Python-urllib/3.8\n",
      "HTTP_ACCEPT_LANGUAGE=\n",
      "HTTP_ACCEPT_CHARSET=\n",
      "SERVER_PORT=80\n",
      "FORMAT=ini\n",
      "\n",
      "\n"
     ]
    }
   ],
   "source": [
    "## 클라리언트 접속 정보를 출력해보자 \n",
    "#데이터 읽어들이기\n",
    "url = \"http://api.aoikujira.com/ip/ini\"\n",
    "res = rq.urlopen(url)\n",
    "data = res.read()\n",
    "\n",
    "#바이너리를 문자열로 변환하기\n",
    "text = data.decode(\"utf-8\")\n",
    "print(text)"
   ]
  },
  {
   "cell_type": "markdown",
   "metadata": {},
   "source": [
    "- BeautifulSoup 사용 "
   ]
  },
  {
   "cell_type": "code",
   "execution_count": 24,
   "metadata": {},
   "outputs": [],
   "source": [
    "from bs4 import BeautifulSoup\n"
   ]
  },
  {
   "cell_type": "code",
   "execution_count": 27,
   "metadata": {},
   "outputs": [
    {
     "data": {
      "text/plain": [
       "'\\n<html><body>\\n  <h1>스크레이핑이란?</h1>\\n  <p>웹 페이지를 분석하는 것</p>\\n  <p>원하는 부분을 추출하는 것</p>\\n</body></html>\\n'"
      ]
     },
     "execution_count": 27,
     "metadata": {},
     "output_type": "execute_result"
    }
   ],
   "source": [
    "html = \"\"\"\n",
    "<html><body>\n",
    "  <h1>스크레이핑이란?</h1>\n",
    "  <p>웹 페이지를 분석하는 것</p>\n",
    "  <p>원하는 부분을 추출하는 것</p>\n",
    "</body></html>\n",
    "\"\"\"\n",
    "html"
   ]
  },
  {
   "cell_type": "code",
   "execution_count": 28,
   "metadata": {},
   "outputs": [],
   "source": [
    "# parser를 통해 해석해주는 느낌?\n",
    "soup = BeautifulSoup(html, 'html.parser')\n"
   ]
  },
  {
   "cell_type": "markdown",
   "metadata": {},
   "source": [
    "- 원하는 부분 추출도 가능"
   ]
  },
  {
   "cell_type": "code",
   "execution_count": 29,
   "metadata": {},
   "outputs": [],
   "source": [
    "h1 = soup.html.body.h1\n",
    "p1 = soup.html.body.p\n",
    "p2 = p1.next_sibling.next_sibling"
   ]
  },
  {
   "cell_type": "markdown",
   "metadata": {},
   "source": [
    "- 요소의 글자출력도 가능 "
   ]
  },
  {
   "cell_type": "code",
   "execution_count": 30,
   "metadata": {
    "scrolled": true
   },
   "outputs": [
    {
     "name": "stdout",
     "output_type": "stream",
     "text": [
      "h1 = 스크레이핑이란?\n",
      "p  = 웹 페이지를 분석하는 것\n",
      "p  = 원하는 부분을 추출하는 것\n"
     ]
    }
   ],
   "source": [
    "print(f\"h1 = {h1.string}\")\n",
    "print(f\"p  = {p1.string}\")\n",
    "print(f\"p  = {p2.string}\")"
   ]
  },
  {
   "cell_type": "markdown",
   "metadata": {},
   "source": [
    "- 단일 element를 추출하는 find() 함수"
   ]
  },
  {
   "cell_type": "code",
   "execution_count": 32,
   "metadata": {},
   "outputs": [
    {
     "name": "stdout",
     "output_type": "stream",
     "text": [
      "<h1>스크레이핑이란?</h1> <p>웹 페이지를 분석하는 것</p>\n"
     ]
    }
   ],
   "source": [
    "title = soup.find(\"h1\")\n",
    "body  = soup.find(\"p\")\n",
    "print(title,body)\n"
   ]
  },
  {
   "cell_type": "code",
   "execution_count": 33,
   "metadata": {
    "scrolled": true
   },
   "outputs": [
    {
     "name": "stdout",
     "output_type": "stream",
     "text": [
      "#title = 스크레이핑이란?\n",
      "#body = 웹 페이지를 분석하는 것\n"
     ]
    }
   ],
   "source": [
    "# f의 기능? 텍스트부분 출력하기\n",
    "print(f\"#title = {title.string}\" )\n",
    "print(f\"#body = {body.string}\")"
   ]
  },
  {
   "cell_type": "markdown",
   "metadata": {},
   "source": [
    "- find_all()로 복수의 elements 추출 가능 "
   ]
  },
  {
   "cell_type": "code",
   "execution_count": 34,
   "metadata": {},
   "outputs": [],
   "source": [
    "html = \"\"\"\n",
    "<html><body>\n",
    "  <ul>\n",
    "    <li><a href=\"http://www.naver.com\">naver</a></li>\n",
    "    <li><a href=\"http://www.daum.net\">daum</a></li>\n",
    "  </ul>\n",
    "</body></html>\n",
    "\"\"\"\n",
    "\n",
    "soup = BeautifulSoup(html, 'html.parser')"
   ]
  },
  {
   "cell_type": "code",
   "execution_count": 36,
   "metadata": {},
   "outputs": [
    {
     "name": "stdout",
     "output_type": "stream",
     "text": [
      "[<a href=\"http://www.naver.com\">naver</a>, <a href=\"http://www.daum.net\">daum</a>] 2\n",
      "naver > http://www.naver.com\n",
      "daum > http://www.daum.net\n"
     ]
    }
   ],
   "source": [
    "links = soup.find_all(\"a\")\n",
    "print(links, len(links))\n",
    "\n",
    "for a in links:\n",
    "    href = a.attrs['href'] # href의 속성에 있는 속성값을 추출 가능 \n",
    "    text = a.string \n",
    "    print(text, \">\", href)"
   ]
  },
  {
   "cell_type": "markdown",
   "metadata": {},
   "source": [
    "- Css Selector \n",
    "    - 복잡하게 구조된 사이트에서 자신이 원하는 데이터를 가져오자 "
   ]
  },
  {
   "cell_type": "code",
   "execution_count": 37,
   "metadata": {},
   "outputs": [],
   "source": [
    "html = \"\"\"\n",
    "<html><body>\n",
    "<div id=\"meigen\">\n",
    "  <h1>위키북스 도서</h1>\n",
    "  <ul class=\"items\">\n",
    "    <li>유니티 게임 이펙트 입문</li>\n",
    "    <li>스위프트로 시작하는 아이폰 앱 개발 교과서</li>\n",
    "    <li>모던 웹사이트 디자인의 정석</li>\n",
    "  </ul>\n",
    "</div>\n",
    "</body></html>\n",
    "\"\"\"\n",
    "\n",
    "# HTML 분석하기 혹은 해석하기 \n",
    "soup = BeautifulSoup(html, 'html.parser')"
   ]
  },
  {
   "cell_type": "code",
   "execution_count": 39,
   "metadata": {},
   "outputs": [
    {
     "name": "stdout",
     "output_type": "stream",
     "text": [
      "h1 = 위키북스 도서\n",
      "li = 유니티 게임 이펙트 입문\n",
      "li = 스위프트로 시작하는 아이폰 앱 개발 교과서\n",
      "li = 모던 웹사이트 디자인의 정석\n"
     ]
    }
   ],
   "source": [
    "# 타이틀 부분 추출하기 --- (※3)\n",
    "h1 = soup.select_one(\"div#meigen > h1\").string\n",
    "print(f\"h1 = {h1}\")\n",
    "\n",
    "# 목록 부분 추출하기 --- (※4)\n",
    "li_list = soup.select(\"div#meigen > ul.items > li\")\n",
    "for li in li_list:\n",
    "  print(f\"li = {li.string}\")\n",
    "\n",
    "# f12 사용 "
   ]
  },
  {
   "cell_type": "markdown",
   "metadata": {},
   "source": [
    "## 예제풀이 - 네이버 금융"
   ]
  },
  {
   "cell_type": "code",
   "execution_count": 49,
   "metadata": {},
   "outputs": [],
   "source": [
    "from bs4 import BeautifulSoup\n",
    "from urllib import request, parse\n",
    "import requests"
   ]
  },
  {
   "cell_type": "code",
   "execution_count": 41,
   "metadata": {},
   "outputs": [],
   "source": [
    "url = \"https://finance.naver.com/marketindex/\"\n",
    "res = rq.urlopen(url)"
   ]
  },
  {
   "cell_type": "code",
   "execution_count": 42,
   "metadata": {},
   "outputs": [],
   "source": [
    "soup = BeautifulSoup(res, \"html.parser\")\n"
   ]
  },
  {
   "cell_type": "code",
   "execution_count": 43,
   "metadata": {},
   "outputs": [
    {
     "name": "stdout",
     "output_type": "stream",
     "text": [
      "usd/krw = 1,163.00\n"
     ]
    }
   ],
   "source": [
    "# 원하는 데이터 추출 css selector 사용 \n",
    "price = soup.select_one(\"div.head_info > span.value\").string\n",
    "print(\"usd/krw =\", price)\n"
   ]
  },
  {
   "cell_type": "markdown",
   "metadata": {},
   "source": [
    "## 예제풀이 - 기상청\n",
    "#### 기상청 rss에서 xml 특정 내용을 추출하기 \n"
   ]
  },
  {
   "cell_type": "code",
   "execution_count": 45,
   "metadata": {},
   "outputs": [
    {
     "name": "stdout",
     "output_type": "stream",
     "text": [
      "url= http://www.kma.go.kr/weather/forecast/mid-term-rss3.jsp?stnId=109\n"
     ]
    }
   ],
   "source": [
    "url = \"http://www.kma.go.kr/weather/forecast/mid-term-rss3.jsp\"\n",
    "\n",
    "# 매개변수를 URL로 인코딩한다.\n",
    "values = {\n",
    "    'stnId':'109'\n",
    "}\n",
    "# 파이썬 요청으로 전용 매개 변수를 만들 때에는 urllib.parse 모듈의 urlencode()함수를 사용하여 매개 변수를 url로 인코딩한다.\n",
    "params=parse.urlencode(values)\n",
    "url += \"?\"+params # URL에 매개변수 추가\n",
    "print(\"url=\", url)\n",
    "\n",
    "res = rq.urlopen(url)"
   ]
  },
  {
   "cell_type": "code",
   "execution_count": 46,
   "metadata": {},
   "outputs": [],
   "source": [
    "soup = BeautifulSoup(res, \"html.parser\")\n"
   ]
  },
  {
   "cell_type": "code",
   "execution_count": 53,
   "metadata": {},
   "outputs": [
    {
     "name": "stdout",
     "output_type": "stream",
     "text": [
      "서울,경기도 육상중기예보\n",
      "○ (기온) 이번 예보기간 낮 기온은 22~25도로 오늘(21일, 23~25도)과 비슷하겠고, 아침 기온은 12~16도로 선선하겠습니다.<br />          특히, 내륙을 중심으로 아침 기온이 12~13도 내외로 낮아 낮과 밤의 기온차가 크겠습니다.<br />○ (해상) 서해중부해상의 물결은 1.0~2.0m로 일겠습니다.<br />○ (주말전망) 26일(토)은 오전에 구름많다가 오후에 대체로 맑겠고 27일(일)은 대체로 맑겠습니다. 아침 최저기온은 12~16도, 낮 최고기온은 23~24도가 되겠습니다.\n"
     ]
    }
   ],
   "source": [
    "header = soup.find(\"header\")\n",
    "\n",
    "title = header.find(\"title\").text\n",
    "wf = header.find(\"wf\").text\n",
    "\n",
    "print(title)\n",
    "print(wf)\n"
   ]
  },
  {
   "cell_type": "code",
   "execution_count": 63,
   "metadata": {},
   "outputs": [
    {
     "name": "stdout",
     "output_type": "stream",
     "text": [
      "기상청 육상 중기예보\n",
      "○ (기온) 이번 예보기간 낮 기온은 22~25도로 오늘(21일, 23~25도)과 비슷하겠고, 아침 기온은 12~16도로 선선하겠습니다.<br />          특히, 내륙을 중심으로 아침 기온이 12~13도 내외로 낮아 낮과 밤의 기온차가 크겠습니다.<br />○ (해상) 서해중부해상의 물결은 1.0~2.0m로 일겠습니다.<br />○ (주말전망) 26일(토)은 오전에 구름많다가 오후에 대체로 맑겠고 27일(일)은 대체로 맑겠습니다. 아침 최저기온은 12~16도, 낮 최고기온은 23~24도가 되겠습니다.\n"
     ]
    }
   ],
   "source": [
    "# select()를 사용하면 모든 결과를 리스트에 담고, select_one()을 사용하면 하나의 요소만 반환\n",
    "title = soup.select_one(\"title\").text\n",
    "wf = header.select_one(\"wf\").text\n",
    "\n",
    "print(title)\n",
    "print(wf)"
   ]
  },
  {
   "cell_type": "markdown",
   "metadata": {},
   "source": [
    "## 예제풀이 - 윤동주 작가의 작품 목록 "
   ]
  },
  {
   "cell_type": "code",
   "execution_count": 65,
   "metadata": {},
   "outputs": [
    {
     "name": "stdout",
     "output_type": "stream",
     "text": [
      "- 하늘과 바람과 별과 시\n",
      "- 증보판\n",
      "- 서시\n",
      "- 자화상\n",
      "- 소년\n",
      "- 눈 오는 지도\n",
      "- 돌아와 보는 밤\n",
      "- 병원\n",
      "- 새로운 길\n",
      "- 간판 없는 거리\n",
      "- 태초의 아침\n",
      "- 또 태초의 아침\n",
      "- 새벽이 올 때까지\n",
      "- 무서운 시간\n",
      "- 십자가\n",
      "- 바람이 불어\n",
      "- 슬픈 족속\n",
      "- 눈감고 간다\n",
      "- 또 다른 고향\n",
      "- 길\n",
      "- 별 헤는 밤\n",
      "- 흰 그림자\n",
      "- 사랑스런 추억\n",
      "- 흐르는 거리\n",
      "- 쉽게 씌어진 시\n",
      "- 봄\n",
      "- 참회록\n",
      "- 간(肝)\n",
      "- 위로\n",
      "- 팔복\n",
      "- 못자는밤\n",
      "- 달같이\n",
      "- 고추밭\n",
      "- 아우의 인상화\n",
      "- 사랑의 전당\n",
      "- 이적\n",
      "- 비오는 밤\n",
      "- 산골물\n",
      "- 유언\n",
      "- 창\n",
      "- 바다\n",
      "- 비로봉\n",
      "- 산협의 오후\n",
      "- 명상\n",
      "- 소낙비\n",
      "- 한난계\n",
      "- 풍경\n",
      "- 달밤\n",
      "- 장\n",
      "- 밤\n",
      "- 황혼이 바다가 되어\n",
      "- 아침\n",
      "- 빨래\n",
      "- 꿈은 깨어지고\n",
      "- 산림\n",
      "- 이런날\n",
      "- 산상\n",
      "- 양지쪽\n",
      "- 닭\n",
      "- 가슴 1\n",
      "- 가슴 2\n",
      "- 비둘기\n",
      "- 황혼\n",
      "- 남쪽 하늘\n",
      "- 창공\n",
      "- 거리에서\n",
      "- 삶과 죽음\n",
      "- 초한대\n",
      "- 산울림\n",
      "- 해바라기 얼굴\n",
      "- 귀뚜라미와 나와\n",
      "- 애기의 새벽\n",
      "- 햇빛·바람\n",
      "- 반디불\n",
      "- 둘 다\n",
      "- 거짓부리\n",
      "- 눈\n",
      "- 참새\n",
      "- 버선본\n",
      "- 편지\n",
      "- 봄\n",
      "- 무얼 먹구 사나\n",
      "- 굴뚝\n",
      "- 햇비\n",
      "- 빗자루\n",
      "- 기왓장 내외\n",
      "- 오줌싸개 지도\n",
      "- 병아리\n",
      "- 조개껍질\n",
      "- 겨울\n",
      "- 트루게네프의 언덕\n",
      "- 달을 쏘다\n",
      "- 별똥 떨어진 데\n",
      "- 화원에 꽃이 핀다\n",
      "- 종시\n"
     ]
    }
   ],
   "source": [
    "url = \"https://ko.wikisource.org/wiki/%EC%A0%80%EC%9E%90:%EC%9C%A4%EB%8F%99%EC%A3%BC\"\n",
    "res = rq.urlopen(url)\n",
    "soup = BeautifulSoup(res, \"html.parser\")\n",
    "# #mw-content-text 바로 아래에 있는 ul 태그 바로 아래에 있는 li 태그 아래에 있는 a 태그를 모두 선택\n",
    "\n",
    "a_list = soup.select(\"#mw-content-text   ul > li  a\")\n",
    "for a in a_list:\n",
    "    name = a.string\n",
    "    print(f\"- {name}\", )"
   ]
  },
  {
   "cell_type": "code",
   "execution_count": 96,
   "metadata": {},
   "outputs": [],
   "source": [
    "from bs4 import BeautifulSoup\n",
    "from urllib import request\n",
    "from urllib.request import HTTPError, urlopen\n",
    "import pandas as pd\n",
    "import requests as rqs\n"
   ]
  },
  {
   "cell_type": "markdown",
   "metadata": {},
   "source": [
    "## Naver news crawling \n",
    "\n",
    "#### httperror 로 인해서 requests 사용했습니다."
   ]
  },
  {
   "cell_type": "code",
   "execution_count": 103,
   "metadata": {},
   "outputs": [
    {
     "name": "stdout",
     "output_type": "stream",
     "text": [
      "총 5 개의 뉴스 제목이 있습니다\n",
      "\n",
      "                                        박덕흠 “박원순 시장 특혜 줬겠나… 여당발 이슈 물타기”\n",
      "                                    \n",
      "\n",
      "                                        창군 첫 학군출신 육군 총장…“예견된 인사” [뉴스 투데이]\n",
      "                                    \n",
      "\n",
      "                                        '제2의 테슬라'는 결국 사기였나…니콜라 창업자 사임 혼란\n",
      "                                    \n",
      "\n",
      "                                        '통신비 vs 독감백신' 평행선…여야 추경 힘겨루기\n",
      "                                    \n",
      "\n",
      "                                        `권력개혁 회의` 나란히 입장…`특혜의혹` 秋에 힘실어준 文\n",
      "                                    \n"
     ]
    }
   ],
   "source": [
    "## using css selector \n",
    "\n",
    "# url = \"https://news.naver.com/\"\n",
    "\n",
    "# res = request.urlopen(url)\n",
    "# soup = BeautifulSoup(res, \"html.parser\")\n",
    "\n",
    "# selector = \"#today_main_news > div.hdline_news > ul > li > div.hdline_article_tit > a\"\n",
    "\n",
    "# for a in soup.select(selector):\n",
    "#     title = a.text\n",
    "#     print(title)\n",
    "# def getTitle(url):\n",
    "\n",
    "#     try:\n",
    "\n",
    "#       html = urlopen(url)\n",
    "\n",
    "#     except HTTPError as e:\n",
    "#      return None\n",
    " \n",
    "\n",
    "#     try:\n",
    "#       bsObj = BeautifulSoup(html.read(), \"html.parser\")\n",
    "#       title = bsObj.body.h1\n",
    "#     except AttributeError as e:\n",
    "#       return None\n",
    "#     return title\n",
    " \n",
    "\n",
    "# title = getTitle(\"https://news.naver.com/\")\n",
    "\n",
    "# if title == None:\n",
    "\n",
    "#     print(\"Title could not be found\")\n",
    "\n",
    "# else:\n",
    "\n",
    "#     print(title)\n",
    "\n",
    "# from urllib.request import Request, urlopen\n",
    "\n",
    "# req = Request('http://www.news.naver.com', headers={'User-Agent': 'Mozilla/5.0 (Macintosh; Intel Mac OS X 10_15_6) AppleWebKit/537.36 (KHTML, like Gecko) Chrome/85.0.4183.102 Safari/537.36'})\n",
    "# webpage = urlopen(req).read()\n",
    "\n",
    "url = \"https://news.naver.com/\"\n",
    "\n",
    "res = rqs.get(url)\n",
    "soup = BeautifulSoup(res.text, \"html.parser\")\n",
    "news_titles = soup.select('#today_main_news > div.hdline_news > ul > li > div.hdline_article_tit > a')\n",
    "\n",
    "print('총', len(news_titles), '개의 뉴스 제목이 있습니다')\n",
    "\n",
    "for title in news_titles:\n",
    "    print(title.text)\n",
    "# selector = \"#today_main_news > div.hdline_news > ul > li > div.hdline_article_tit > a\"\n",
    "\n",
    "# for a in soup.select(selector):\n",
    "#     title = a.text\n",
    "#     print(title)"
   ]
  },
  {
   "cell_type": "markdown",
   "metadata": {},
   "source": [
    "## 시민의 소리 게시판 크롤링 "
   ]
  },
  {
   "cell_type": "code",
   "execution_count": 93,
   "metadata": {
    "scrolled": true
   },
   "outputs": [
    {
     "data": {
      "text/html": [
       "<div>\n",
       "<style scoped>\n",
       "    .dataframe tbody tr th:only-of-type {\n",
       "        vertical-align: middle;\n",
       "    }\n",
       "\n",
       "    .dataframe tbody tr th {\n",
       "        vertical-align: top;\n",
       "    }\n",
       "\n",
       "    .dataframe thead th {\n",
       "        text-align: right;\n",
       "    }\n",
       "</style>\n",
       "<table border=\"1\" class=\"dataframe\">\n",
       "  <thead>\n",
       "    <tr style=\"text-align: right;\">\n",
       "      <th></th>\n",
       "      <th>title</th>\n",
       "      <th>link</th>\n",
       "    </tr>\n",
       "  </thead>\n",
       "  <tbody>\n",
       "    <tr>\n",
       "      <th>0</th>\n",
       "      <td>관리인 마스크</td>\n",
       "      <td>https://www.sisul.or.kr/open_content/childrenp...</td>\n",
       "    </tr>\n",
       "    <tr>\n",
       "      <th>1</th>\n",
       "      <td>어린이 대공원 쓰레기집하장 내 쓰레기 제거 요청</td>\n",
       "      <td>https://www.sisul.or.kr/open_content/childrenp...</td>\n",
       "    </tr>\n",
       "    <tr>\n",
       "      <th>2</th>\n",
       "      <td>마스크미착용으로 축구 및, 베트민턴 치는 인원이 너무 많아요.</td>\n",
       "      <td>https://www.sisul.or.kr/open_content/childrenp...</td>\n",
       "    </tr>\n",
       "    <tr>\n",
       "      <th>3</th>\n",
       "      <td>공원 내 마스크 착용</td>\n",
       "      <td>https://www.sisul.or.kr/open_content/childrenp...</td>\n",
       "    </tr>\n",
       "    <tr>\n",
       "      <th>4</th>\n",
       "      <td>청춘핫도그 점장님과 직원분께 감사드립니다</td>\n",
       "      <td>https://www.sisul.or.kr/open_content/childrenp...</td>\n",
       "    </tr>\n",
       "  </tbody>\n",
       "</table>\n",
       "</div>"
      ],
      "text/plain": [
       "                                title  \\\n",
       "0                             관리인 마스크   \n",
       "1         어린이 대공원 쓰레기집하장 내 쓰레기 제거 요청    \n",
       "2  마스크미착용으로 축구 및, 베트민턴 치는 인원이 너무 많아요.   \n",
       "3                         공원 내 마스크 착용   \n",
       "4              청춘핫도그 점장님과 직원분께 감사드립니다   \n",
       "\n",
       "                                                link  \n",
       "0  https://www.sisul.or.kr/open_content/childrenp...  \n",
       "1  https://www.sisul.or.kr/open_content/childrenp...  \n",
       "2  https://www.sisul.or.kr/open_content/childrenp...  \n",
       "3  https://www.sisul.or.kr/open_content/childrenp...  \n",
       "4  https://www.sisul.or.kr/open_content/childrenp...  "
      ]
     },
     "execution_count": 93,
     "metadata": {},
     "output_type": "execute_result"
    }
   ],
   "source": [
    "## 시민의 소리 게시판 스크래핑 후 저장 \n",
    "\n",
    "url_head = \"https://www.sisul.or.kr\"\n",
    "\n",
    "url_board = url_head + \"/open_content/childrenpark/qna/qnaMsgList.do?pgno=1\"\n",
    "\n",
    "\n",
    "\n",
    "res = request.urlopen(url_board)\n",
    "soup = BeautifulSoup(res, \"html.parser\")\n",
    "\n",
    "selector = \"#detail_con > div.generalboard > table > tbody > tr > td.left.title > a\"\n",
    "titles = []\n",
    "links = []\n",
    "for a in soup.select(selector):\n",
    "    titles.append(a.text)\n",
    "    links.append(url_head + a.attrs[\"href\"])\n",
    "    \n",
    "# print(titles, links)\n",
    "\n",
    "board_df = pd.DataFrame({\"title\": titles, \"link\": links})\n",
    "board_df.head()\n",
    "\n"
   ]
  },
  {
   "cell_type": "code",
   "execution_count": 94,
   "metadata": {},
   "outputs": [],
   "source": [
    "board_df.to_csv(\"board.csv\", index=False)\n"
   ]
  },
  {
   "cell_type": "markdown",
   "metadata": {},
   "source": [
    "# __동적인 크롤링__\n",
    "\n"
   ]
  },
  {
   "cell_type": "code",
   "execution_count": 104,
   "metadata": {},
   "outputs": [],
   "source": [
    "from selenium import webdriver\n",
    "from selenium.webdriver.common.by import By\n",
    "from selenium.webdriver.support.ui import WebDriverWait\n",
    "from selenium.webdriver.support import expected_conditions as EC\n",
    "from bs4 import BeautifulSoup\n",
    "import pandas as pd\n",
    "from pandas import DataFrame\n",
    "import time"
   ]
  },
  {
   "cell_type": "code",
   "execution_count": 107,
   "metadata": {},
   "outputs": [
    {
     "data": {
      "text/plain": [
       "'Dynamite\\n방탄소년단'"
      ]
     },
     "execution_count": 107,
     "metadata": {},
     "output_type": "execute_result"
    }
   ],
   "source": [
    "# selenium 기초 노래 제목 크롤링 \n",
    "DRIVER_PATH = '/Users/kenken/Documents/chromedriver4ahnsangho'\n",
    "\n",
    " # chrome driver 설정\n",
    "driver = webdriver.Chrome(DRIVER_PATH) \n",
    "driver.implicitly_wait(10)\n",
    "\n",
    "url = \"https://www.melon.com/chart/index.htm\"\n",
    "\n",
    "driver.get(url)\n",
    "html = driver.page_source\n",
    "soup = BeautifulSoup(html, 'html.parser')\n",
    "\n",
    "# title crawling\n",
    "title = WebDriverWait(driver, 20) \\\n",
    "    .until(EC.presence_of_element_located((By.CSS_SELECTOR, \"#frm > div > table > tbody > tr:nth-child(1) > td:nth-child(4) > div > div\")))\n",
    "\n",
    "# print(\"Title: {}\".format(title.text))\n",
    "\n",
    "title.text"
   ]
  },
  {
   "cell_type": "markdown",
   "metadata": {},
   "source": [
    "- css selector로 주소 규칙 찾기\n",
    "    - 1번째 제목: #frm > div > table > tbody > tr:nth-child(1) > td:nth-child(4) > div > div\"\n",
    "    - 2번째 제목: #frm > div > table > tbody > tr:nth-child(2) > td:nth-child(4) > div > div\n",
    "\n",
    "----------------------------------------------------------------\n",
    "\n",
    "- xpath로 주소 규칙 찾기\n",
    "    - 1번째 제목: //*[@id=\"frm\"]/div/table/tbody/tr[1]/td[4]/div/div\n",
    "    - 2번째 제목: //*[@id=\"frm\"]/div/table/tbody/tr[2]/td[4]/div/div\n"
   ]
  },
  {
   "cell_type": "code",
   "execution_count": 108,
   "metadata": {},
   "outputs": [
    {
     "data": {
      "text/plain": [
       "'취기를 빌려 (취향저격 그녀 X 산들)\\n산들'"
      ]
     },
     "execution_count": 108,
     "metadata": {},
     "output_type": "execute_result"
    }
   ],
   "source": [
    "# 2번째 제목 크롤링 xpath\n",
    "WebDriverWait(driver, 20) \\\n",
    "    .until(EC.presence_of_element_located((By.XPATH, \"//*[@id='frm']/div/table/tbody/tr[2]/td[4]/div/div\"))).text"
   ]
  },
  {
   "cell_type": "markdown",
   "metadata": {},
   "source": [
    "- for loop 문으로 자동으로 돌려보자 "
   ]
  },
  {
   "cell_type": "code",
   "execution_count": 109,
   "metadata": {},
   "outputs": [
    {
     "name": "stdout",
     "output_type": "stream",
     "text": [
      "['Dynamite\\n방탄소년단', '취기를 빌려 (취향저격 그녀 X 산들)\\n산들', '눈누난나 (NUNU NANA)\\n제시 (Jessi)', '마리아 (Maria)\\n화사 (Hwa Sa)', '다시 여기 바닷가\\n싹쓰리 (유두래곤, 린다G, 비룡)', 'When We Disco (Duet with 선미)\\n박진영', '오래된 노래\\n스탠딩 에그', 'How You Like That\\nBLACKPINK', '에잇(Prod.&Feat. SUGA of BTS)\\n아이유', '내 마음이 움찔했던 순간 (취향저격 그녀 X 규현)\\n규현 (KYUHYUN)', 'Dolphin\\n오마이걸 (OH MY GIRL)', '아로하\\n조정석', 'Downtown Baby\\n블루 (BLOO)', '홀로\\n이하이', 'Summer Hate (Feat. 비)\\n지코 (ZICO)', '덤디덤디 (DUMDi DUMDi)\\n(여자)아이들', '어떻게 지내 (Prod. By VAN.C)\\n오반', 'Not Shy\\nITZY (있지)', 'Blueming\\n아이유', 'Dance Monkey\\nTones And I', '살짝 설렜어 (Nonstop)\\n오마이걸 (OH MY GIRL)', 'Memories\\nMaroon 5', '흔들리는 꽃들 속에서 네 샴푸향이 느껴진거야\\n장범준', 'METEOR\\n창모 (CHANGMO)', 'Ice Cream (with Selena Gomez)\\nBLACKPINK', '작은 것들을 위한 시 (Boy With Luv) (Feat. Halsey)\\n방탄소년단', '그 여름을 틀어줘\\n싹쓰리 (유두래곤, 린다G, 비룡)', '사랑은 지날수록 더욱 선명하게 남아\\n전상근', '사랑하게 될 줄 알았어\\n전미도', '어떻게 이별까지 사랑하겠어, 널 사랑하는 거지\\nAKMU (악동뮤지션)', '보라빛 밤 (pporappippam)\\n선미', '거짓말이라도 해서 널 보고싶어\\n백지영', '늦은 밤 너의 집 앞 골목길에서\\n노을', \"Don't Start Now\\nDua Lipa\", '모든 날, 모든 순간 (Every day, Every Moment)\\n폴킴', '2002\\nAnne-Marie', '오늘도 빛나는 너에게 (To You My Light) (Feat.이라온)\\n마크툽 (MAKTUB)', '처음처럼\\n엠씨더맥스 (M.C the MAX)', '아무노래\\n지코 (ZICO)', '마음을 드려요\\n아이유', 'ON\\n방탄소년단', '봄날\\n방탄소년단', 'Into the I-LAND\\n아이유', '신난다 (Feat. 마마무)\\n비룡', '우리 왜 헤어져야 해\\n신예영', '여름 안에서 by 싹쓰리 (Feat. 황광희)\\n싹쓰리 (유두래곤, 린다G, 비룡)', '시작\\n가호 (Gaho)', '좋은 사람 있으면 소개시켜줘\\n조이 (JOY)', '안녕\\n폴킴', 'Maniac\\nConan Gray']\n"
     ]
    }
   ],
   "source": [
    "# chrome driver 설정\n",
    "driver = webdriver.Chrome(DRIVER_PATH)\n",
    "driver.implicitly_wait(10)\n",
    "\n",
    "url = \"https://www.melon.com/chart/index.htm\"\n",
    "\n",
    "driver.get(url)\n",
    "html = driver.page_source\n",
    "soup = BeautifulSoup(html, 'html.parser')\n",
    "\n",
    "# 우리가 담을 곳 리스트 만들기 \n",
    "title_list = []\n",
    "\n",
    "# title crawling (TOP 50)\n",
    "for i in range(1, 51):\n",
    "    title = WebDriverWait(driver, 20) \\\n",
    "        .until(EC.presence_of_element_located((By.XPATH, f\"//*[@id='frm']/div/table/tbody/tr[{i}]/td[4]/div/div\")))\n",
    "    title_list.append(title.text)\n",
    "    \n",
    "print(title_list)"
   ]
  },
  {
   "cell_type": "markdown",
   "metadata": {},
   "source": [
    "- 클릭하고 나오고 가사까지 크롤링 가능하다 \n",
    "    - 노래제목에 링크가 있기에 해당 링크의 xPath도 추가해주자\n",
    "    "
   ]
  },
  {
   "cell_type": "code",
   "execution_count": 111,
   "metadata": {},
   "outputs": [],
   "source": [
    "# chrome driver 설정\n",
    "driver = webdriver.Chrome(DRIVER_PATH)\n",
    "driver.implicitly_wait(10)\n",
    "\n",
    "url = \"https://www.melon.com/chart/index.htm\"\n",
    "\n",
    "driver.get(url)\n",
    "html = driver.page_source\n",
    "soup = BeautifulSoup(html, 'html.parser')\n",
    "\n",
    "# 1번째 click하기\n",
    "click_element = WebDriverWait(driver, 20).until(EC.presence_of_element_located((By.XPATH, '//*[@id=\"frm\"]/div/table/tbody/tr[1]/td[3]/div/a')))\n",
    "click_element.click()    \n",
    "time.sleep(4)\n",
    "# back\n",
    "driver.back()\n",
    "\n",
    "\n",
    "# 2번째 click하기\n",
    "click_element = WebDriverWait(driver, 20).until(EC.presence_of_element_located((By.XPATH, '//*[@id=\"frm\"]/div/table/tbody/tr[2]/td[3]/div/a')))\n",
    "click_element.click()    \n",
    "\n",
    "# back\n",
    "driver.back()"
   ]
  },
  {
   "cell_type": "code",
   "execution_count": 112,
   "metadata": {},
   "outputs": [
    {
     "name": "stdout",
     "output_type": "stream",
     "text": [
      "['Dynamite', '취기를 빌려 (취향저격 그녀 X 산들)', '눈누난나 (NUNU NANA)', '마리아 (Maria)', '다시 여기 바닷가']\n",
      "['방탄소년단', '산들', '제시 (Jessi)', '화사 (Hwa Sa)', '싹쓰리 (유두래곤, 린다G, 비룡)']\n",
      "['269,306', '95,796', '73,853', '138,311', '221,412']\n",
      "[\"Cos ah ah\\nI’m in the stars tonight\\nSo watch me bring the fire\\nand set the night alight\\nShoes on get up in the morn\\nCup of milk let’s rock and roll\\nKing Kong kick the drum\\nrolling on like a rolling stone\\nSing song when I’m walking home\\nJump up to the top LeBron\\nDing dong call me on my phone\\nIce tea and a game of ping pong\\nThis is getting heavy\\nCan you hear the bass boom\\nI’m ready\\nLife is sweet as honey\\nYeah this beat cha ching\\nlike money\\nDisco overload I’m into\\nthat I’m good to go\\nI'm diamond you know I glow up\\nHey so let’s go\\nCos ah ah\\nI’m in the stars tonight\\nSo watch me bring the fire\\nand set the night alight\\nShining through the city\\nwith a little funk and soul\\nSo I’mma light it up\\nlike dynamite woah\\nBring a friend join the crowd\\nWhoever wanna come along\\nWord up talk the talk\\njust move like we off the wall\\nDay or night the sky’s alight\\nSo we dance to the break of dawn\\nLadies and gentlemen\\nI got the medicine\\nso you should keep ya\\neyes on the ball huh\\nThis is getting heavy\\nCan you hear the bass boom\\nI’m ready\\nLife is sweet as honey\\nYeah this beat cha ching\\nlike money\\nDisco overload\\nI’m into that I’m good to go\\nI'm diamond you know I glow up\\nLet’s go\\nCos ah ah\\nI’m in the stars tonight\\nSo watch me bring the fire\\nand set the night alight\\nShining through the city\\nwith a little funk and soul\\nSo I’mma light it up\\nlike dynamite woah\\nDynnnnnanana life is dynamite\\nDynnnnnanana life is dynamite\\nShining through the city\\nwith a little funk and soul\\nSo I’mma light it up\\nlike dynamite woah\\nDynnnnnanana eh\\nDynnnnnanana eh\\nDynnnnnanana eh\\nLight it up like dynamite\\nDynnnnnanana eh\\nDynnnnnanana eh\\nDynnnnnanana eh\\nLight it up like dynamite\\nCos ah ah\\nI’m in the stars tonight\\nSo watch me bring the fire\\nand set the night alight\\nShining through the city\\nwith a little funk and soul\\nSo I’mma light it up\\nlike dynamite\\nCos ah ah\\nI’m in the stars tonight\\nSo watch me bring the fire\\nand set the night alight\\nShining through the city\\nwith a little funk and soul\\nSo I’mma light it up\\nlike dynamite woah\\nDynnnnnanana life is dynamite\\nDynnnnnanana life is dynamite\\nShining through the city\\nwith a little funk and soul\\nSo I’mma light it up\\nlike dynamite woah\", '언제부턴가 불쑥\\n내 습관이 돼버린 너\\n혹시나 이런 맘이\\n어쩌면 부담일까\\n널 주저했어\\n언제부턴가 점점\\n내 하루에 스며든 너\\n아침을 깨우는 네 생각에\\n어느샌가 거리엔\\n어둠이 젖어 들고\\n취기를 빌려\\n오늘 너에게 고백할 거야\\n하루하루 네가 좋다고\\n괜히 어색할까\\n혼자 애만 태우다\\n끝끝내 망설여왔던 순간\\n알잖아 나 무뚝뚝하고\\n말도 없는 걸\\n서툰 표현이 쑥스러워서 괜히\\n쓰다 지울 문자만 바라보다\\n멋쩍은 쓴웃음만\\n언제부턴가 가끔\\n너와 마주칠 때마다\\n한참을 머뭇거린\\n어설픈 손 인사만\\n오늘 밤도 후회로 잦아들고\\n취기를 빌려\\n오늘 너에게 고백할 거야\\n하루하루 보고 싶다고\\n괜히 어색할까 혼자 애만 태우다\\n수없이 연습해왔던 그 말\\n알잖아 나 무뚝뚝하고\\n말도 없는 걸\\n서툰 표현이 쑥스러워서 괜히\\n쓰다 지울 문자만 바라보다\\n멋쩍은 쓴웃음만\\n첫눈을 빌려\\n오늘은 꼭 고백할 거야\\n작은 너를 품에 안고서\\n눈을 마주하고\\n너무 사랑한다고\\n함께 하고 싶다고', 'I’m trying to give u\\nsomething more\\nSo come with me and fly away\\naway away away away\\n그래서 난 눈누난나\\n눈누누난나\\nPut’ em up in the air\\n누나 누나\\nLike this oh 나나나\\n누나 누나\\n에에에에이\\n나를 지금 원해\\nGimme more Gimme more\\nGimme more Gimme more\\nBaby baby yeah I want it\\n이리로 이리로 이리로 이리 온\\n유난 떨지 마 그만\\n원한다면 솔직해져 봐 too much\\n우 baby 와서 가져가\\nI could give u everything anything\\nBaby can u handle it\\n뭐라 하던 still don’t give a what\\n맘대로 계속 떠들어\\nthey talk about me\\n뭐라노 뭐라카노 F U\\n그래서 난 눈누난나\\n눈누누난나\\nPut’ em up in the air\\n누나 누나\\nLike this oh 나나나\\n누나 누나\\n에에에에이\\nI’m still Jessi from the block\\nU know I got the keys to the lock\\n안 봐 남의 눈치 I just do me\\n날 보기 위해 들어 뒤꿈치\\nWake up bless looking fresh\\n어딜 가든 flex got the S\\non my chest\\n싸이 오빠 말했지 꼴리는 대로 해\\nno red lights 올림픽대로 aye\\n뭐라 하던 still don’t give a what\\n맘대로 계속 떠들어\\nthey talk about me\\n뭐라노 뭐라카노 F U\\n그래서 난 눈누난나\\n눈누누난나\\nPut’ em up in the air\\n누나 누나\\nLike this oh 나나나\\n누나 누나\\n에에에에이\\nI’m trying to give u\\nsomething more\\nSo come with me and fly away\\naway away away away\\n그래서 난 눈누난나\\n눈누누난나\\nPut’ em up in the air\\n누나 누나\\nLike this oh 나나나\\n누나 누나\\n에에에에이', '욕을 하도 먹어 체했어 하도\\n서러워도 어쩌겠어 I do\\n모두들 미워하느라 애썼네\\n날 무너뜨리면\\n밥이 되나\\n\\n외로워서 어떡해\\n미움마저 삼켰어\\n화낼 힘도 없어\\n여유도 없고\\n뭐 그리 아니꼬와\\n가던 길 그냥 가\\n왜들 그래 서럽게\\n\\n마리아 마리아\\n널 위한 말이야\\n빛나는 밤이야\\n널 괴롭히지마\\n오 마리아 널 위한 말이야\\n뭐 하러 아등바등해\\n이미 아름다운데\\n\\n(yeah) Oh na ah ah\\n(yeah) 널 위한 말이야\\n(yeah) Oh na ah ah\\n(yeah) 아름다워 마리아\\n\\nNo frame no fake\\n지끈 지끈거려\\n하늘은 하늘색 사는 게 다 뻔해\\n내가 갈 길은 내가 바꾸지 뭐\\n위기는 기회로 다 바꾸지 뭐\\n굳이 우는 꼴이 보고 싶다면\\n옜다 눈물\\n\\n외로워서 어떡해\\n미움마저 삼켰어\\n화낼 힘도 없어\\n이유도 없고\\n마음을 더럽히지마\\n타락하기엔 아직 일러\\n\\n마리아 마리아\\n널 위한 말이야\\n빛나는 밤이야\\n널 괴롭히지마\\n오 마리아 널 위한 말이야\\n뭐 하러 아등바등해\\n이미 아름다운데\\n\\n(yeah) Oh na ah ah\\n(yeah) 널 위한 말이야\\n(yeah) Oh na ah ah\\n(yeah) 아름다워 마리아\\n\\n마리아 마리아\\n널 위한 말이야\\n빛나는 밤이야\\n널 괴롭히지마\\n오 마리아 널 위한 말이야\\n뭐 하러 아등바등해\\n이미 아름다운데\\n\\n(yeah) Oh na ah ah\\n(yeah) 널 위한 말이야\\n(yeah) 널 위한 말이야\\n(yeah) 아름다워 마리아', '예아 호우 예예예\\n싹쓰리 인더 하우스\\n커커커커커몬 싹 쓰리 투 렛츠고\\n나 다시 또 설레어\\n이렇게 너를 만나서\\n함께 하고 있는 지금 이 공기가\\n다시는 널 볼 순 없을 거라고\\n추억일 뿐이라\\n서랍 속에 꼭 넣어뒀는데\\n흐르는 시간 속에서\\n너와 내 기억은\\n점점 희미해져만 가\\n끝난 줄 알았어\\n지난여름 바닷가\\n너와 나 단둘이\\n파도에 취해서 노래하며\\n같은 꿈을 꾸었지\\n다시 여기 바닷가\\n이제는 말하고 싶어\\n네가 있었기에 내가 더욱 빛나\\n별이 되었다고\\n다들 덥다고 막 짜증내\\n괜찮아 우리 둘은 따뜻해\\n내게 퐁당 빠져버린 널\\n이젠 구하러 가지 않을 거야\\n모래 위 펴펴펴편지를 써\\n밀물이 밀려와도 못 지워\\n추억이 될 뻔한 첫 느낌\\n너랑 다시 한번 받아 보고 싶어\\n흐르는 시간 속에서\\n너와 내 기억은\\n점점 희미해져만 가\\n끝난 줄 알았어\\n지난여름 바닷가\\n너와 나 단둘이\\n파도에 취해서 노래하며\\n같은 꿈을 꾸었지\\n다시 여기 바닷가\\n이제는 말하고 싶어\\n네가 있었기에 내가 더욱 빛나\\n별이 되었다고\\n시간의 강을 건너\\n또 맞닿은 너와 나\\n소중한 사랑을 영원히\\n간직해줘\\n지난여름 바닷가\\n너와 나 단둘이\\n파도에 취해서 노래하며\\n같은 꿈을 꾸었지\\n다시 여기 바닷가\\n이제는 말하고 싶어\\n네가 있었기에 내가 더욱 빛나\\n별이 되었다고']\n"
     ]
    }
   ],
   "source": [
    "# chrome driver 설정\n",
    "driver = webdriver.Chrome(DRIVER_PATH)\n",
    "driver.implicitly_wait(10)\n",
    "\n",
    "url = \"https://www.melon.com/chart/index.htm\"\n",
    "driver.get(url)\n",
    "html = driver.page_source\n",
    "soup = BeautifulSoup(html, 'html.parser')\n",
    "\n",
    "# 빈 리스트 변수\n",
    "title_list = []\n",
    "artist_list = []\n",
    "heart_list = []\n",
    "lyrics_list = []\n",
    "\n",
    "# crawling (TOP 5 긁어오기 )\n",
    "for i in range(1, 6):\n",
    "    # click using XPath\n",
    "    click_element = WebDriverWait(driver, 20) \\\n",
    "        .until(EC.presence_of_element_located((By.XPATH, f'//*[@id=\"frm\"]/div/table/tbody/tr[{i}]/td[3]/div/a')))\n",
    "    click_element.click()\n",
    "\n",
    "    # title crawling ~~ using css selector\n",
    "    title = WebDriverWait(driver, 20).until(\n",
    "        EC.presence_of_element_located((By.CSS_SELECTOR, \"#downloadfrm > div > div > div.entry > div.info > div.song_name\")))\n",
    "    title_list.append(title.text)\n",
    "\n",
    "    # artist crawling\n",
    "    artist = WebDriverWait(driver, 20).until(\n",
    "        EC.presence_of_element_located((By.CSS_SELECTOR, \"#downloadfrm > div > div > div.entry > div.info > div.artist > a > span:nth-child(1)\")))\n",
    "    artist_list.append(artist.text)\n",
    "    \n",
    "    # heart crawling\n",
    "    heart = WebDriverWait(driver, 20).until(\n",
    "        EC.presence_of_element_located((By.CSS_SELECTOR, \"#d_like_count\")))\n",
    "    heart_list.append(heart.text)\n",
    "\n",
    "    # lyrics crawling\n",
    "    lyrics = WebDriverWait(driver, 20).until(\n",
    "        EC.presence_of_element_located((By.CSS_SELECTOR, \"#d_video_summary\")))\n",
    "    lyrics_list.append(lyrics.text)\n",
    "    \n",
    "    # back\n",
    "    driver.back()\n",
    "    \n",
    "print(title_list)\n",
    "print(artist_list)\n",
    "print(heart_list)\n",
    "print(lyrics_list)"
   ]
  },
  {
   "cell_type": "markdown",
   "metadata": {},
   "source": [
    "- 보통 결과값을 데이터프레임 형태로 저장해야한다"
   ]
  },
  {
   "cell_type": "code",
   "execution_count": 113,
   "metadata": {},
   "outputs": [],
   "source": [
    "# 결과 변수\n",
    "raw_result = {'title': title_list,\n",
    "              'artist': artist_list,\n",
    "              'heart': heart_list,\n",
    "          'lyrics': lyrics_list}\n",
    "\n",
    "result = pd.DataFrame(raw_result)\n",
    "\n",
    "# # csv 파일로 save\n",
    "# result.to_csv(\"MelonTop5\", mode='w')\n",
    "\n",
    "# driver 종료\n",
    "driver.quit()"
   ]
  },
  {
   "cell_type": "code",
   "execution_count": 114,
   "metadata": {},
   "outputs": [
    {
     "data": {
      "text/html": [
       "<div>\n",
       "<style scoped>\n",
       "    .dataframe tbody tr th:only-of-type {\n",
       "        vertical-align: middle;\n",
       "    }\n",
       "\n",
       "    .dataframe tbody tr th {\n",
       "        vertical-align: top;\n",
       "    }\n",
       "\n",
       "    .dataframe thead th {\n",
       "        text-align: right;\n",
       "    }\n",
       "</style>\n",
       "<table border=\"1\" class=\"dataframe\">\n",
       "  <thead>\n",
       "    <tr style=\"text-align: right;\">\n",
       "      <th></th>\n",
       "      <th>title</th>\n",
       "      <th>artist</th>\n",
       "      <th>heart</th>\n",
       "      <th>lyrics</th>\n",
       "    </tr>\n",
       "  </thead>\n",
       "  <tbody>\n",
       "    <tr>\n",
       "      <th>0</th>\n",
       "      <td>Dynamite</td>\n",
       "      <td>방탄소년단</td>\n",
       "      <td>269,306</td>\n",
       "      <td>Cos ah ah\\nI’m in the stars tonight\\nSo watch ...</td>\n",
       "    </tr>\n",
       "    <tr>\n",
       "      <th>1</th>\n",
       "      <td>취기를 빌려 (취향저격 그녀 X 산들)</td>\n",
       "      <td>산들</td>\n",
       "      <td>95,796</td>\n",
       "      <td>언제부턴가 불쑥\\n내 습관이 돼버린 너\\n혹시나 이런 맘이\\n어쩌면 부담일까\\n널 ...</td>\n",
       "    </tr>\n",
       "    <tr>\n",
       "      <th>2</th>\n",
       "      <td>눈누난나 (NUNU NANA)</td>\n",
       "      <td>제시 (Jessi)</td>\n",
       "      <td>73,853</td>\n",
       "      <td>I’m trying to give u\\nsomething more\\nSo come ...</td>\n",
       "    </tr>\n",
       "    <tr>\n",
       "      <th>3</th>\n",
       "      <td>마리아 (Maria)</td>\n",
       "      <td>화사 (Hwa Sa)</td>\n",
       "      <td>138,311</td>\n",
       "      <td>욕을 하도 먹어 체했어 하도\\n서러워도 어쩌겠어 I do\\n모두들 미워하느라 애썼네...</td>\n",
       "    </tr>\n",
       "    <tr>\n",
       "      <th>4</th>\n",
       "      <td>다시 여기 바닷가</td>\n",
       "      <td>싹쓰리 (유두래곤, 린다G, 비룡)</td>\n",
       "      <td>221,412</td>\n",
       "      <td>예아 호우 예예예\\n싹쓰리 인더 하우스\\n커커커커커몬 싹 쓰리 투 렛츠고\\n나 다시...</td>\n",
       "    </tr>\n",
       "  </tbody>\n",
       "</table>\n",
       "</div>"
      ],
      "text/plain": [
       "                   title               artist    heart  \\\n",
       "0               Dynamite                방탄소년단  269,306   \n",
       "1  취기를 빌려 (취향저격 그녀 X 산들)                   산들   95,796   \n",
       "2       눈누난나 (NUNU NANA)           제시 (Jessi)   73,853   \n",
       "3            마리아 (Maria)          화사 (Hwa Sa)  138,311   \n",
       "4              다시 여기 바닷가  싹쓰리 (유두래곤, 린다G, 비룡)  221,412   \n",
       "\n",
       "                                              lyrics  \n",
       "0  Cos ah ah\\nI’m in the stars tonight\\nSo watch ...  \n",
       "1  언제부턴가 불쑥\\n내 습관이 돼버린 너\\n혹시나 이런 맘이\\n어쩌면 부담일까\\n널 ...  \n",
       "2  I’m trying to give u\\nsomething more\\nSo come ...  \n",
       "3  욕을 하도 먹어 체했어 하도\\n서러워도 어쩌겠어 I do\\n모두들 미워하느라 애썼네...  \n",
       "4  예아 호우 예예예\\n싹쓰리 인더 하우스\\n커커커커커몬 싹 쓰리 투 렛츠고\\n나 다시...  "
      ]
     },
     "execution_count": 114,
     "metadata": {},
     "output_type": "execute_result"
    }
   ],
   "source": [
    "result"
   ]
  },
  {
   "cell_type": "markdown",
   "metadata": {},
   "source": [
    "- 이미지 크롤링도 가능 "
   ]
  },
  {
   "cell_type": "code",
   "execution_count": 115,
   "metadata": {},
   "outputs": [
    {
     "name": "stdout",
     "output_type": "stream",
     "text": [
      "['https://cdnimg.melon.co.kr/cm2/album/images/104/79/150/10479150_20200918102847_500.jpg/melon/resize/120/quality/80/optimize', 'https://cdnimg.melon.co.kr/cm2/album/images/104/63/600/10463600_20200720152905_500.jpg/melon/resize/120/quality/80/optimize', 'https://cdnimg.melon.co.kr/cm2/album/images/104/69/416/10469416_20200730151034_500.jpg/melon/resize/120/quality/80/optimize', 'https://cdnimg.melon.co.kr/cm2/album/images/104/52/351/10452351_20200629152036_500.jpg/melon/resize/120/quality/80/optimize', 'https://cdnimg.melon.co.kr/cm2/album/images/104/62/799/10462799_20200717150822_500.jpg/melon/resize/120/quality/80/optimize', 'https://cdnimg.melon.co.kr/cm2/album/images/104/75/061/10475061_20200812120927_500.jpg/melon/resize/120/quality/80/optimize', 'https://cdnimg.melon.co.kr/cm/album/images/021/48/596/2148596_500.jpg/melon/resize/120/quality/80/optimize', 'https://cdnimg.melon.co.kr/cm2/album/images/104/51/566/10451566_20200626114914_500.jpg/melon/resize/120/quality/80/optimize', 'https://cdnimg.melon.co.kr/cm2/album/images/104/26/648/10426648_20200506153340_500.jpg/melon/resize/120/quality/80/optimize', 'https://cdnimg.melon.co.kr/cm2/album/images/104/78/925/10478925_20200820171048_500.jpg/melon/resize/120/quality/80/optimize', 'https://cdnimg.melon.co.kr/cm2/album/images/104/23/289/10423289_20200427153909_500.jpg/melon/resize/120/quality/80/optimize', 'https://cdnimg.melon.co.kr/cm2/album/images/104/09/054/10409054_20200326163459_500.jpg/melon/resize/120/quality/80/optimize', 'https://cdnimg.melon.co.kr/cm/album/images/101/17/789/10117789_500.jpg/melon/resize/120/quality/80/optimize', 'https://cdnimg.melon.co.kr/cm2/album/images/104/65/994/10465994_20200723160043_500.jpg/melon/resize/120/quality/80/optimize', 'https://cdnimg.melon.co.kr/cm2/album/images/104/53/701/10453701_20200701151802_500.jpg/melon/resize/120/quality/80/optimize', 'https://cdnimg.melon.co.kr/cm2/album/images/104/70/992/10470992_20200803154248_500.jpg/melon/resize/120/quality/80/optimize', 'https://cdnimg.melon.co.kr/cm2/album/images/103/99/190/10399190_20200305151138_500.jpg/melon/resize/120/quality/80/optimize', 'https://cdnimg.melon.co.kr/cm2/album/images/104/76/630/10476630_20200818114209_500.jpg/melon/resize/120/quality/80/optimize', 'https://cdnimg.melon.co.kr/cm2/album/images/103/46/650/10346650_500.jpg/melon/resize/120/quality/80/optimize', 'https://cdnimg.melon.co.kr/cm2/album/images/103/16/394/10316394_500.jpg/melon/resize/120/quality/80/optimize']\n"
     ]
    }
   ],
   "source": [
    " # chrome driver 설정\n",
    "driver = webdriver.Chrome(DRIVER_PATH)\n",
    "driver.implicitly_wait(10)\n",
    "\n",
    "url = \"https://www.melon.com/chart/index.htm\"\n",
    "\n",
    "driver.get(url)\n",
    "html = driver.page_source\n",
    "soup = BeautifulSoup(html, 'html.parser')\n",
    "\n",
    "# 빈 리스트 변수\n",
    "link_list = []\n",
    "\n",
    "# # img crawling (TOP 20)\n",
    "# 컴퓨터가 힘들어해서 20 까지만 ,. \n",
    "for i in range(1, 21):\n",
    "    \n",
    "    img = WebDriverWait(driver, 20) \\\n",
    "        .until(EC.presence_of_element_located((By.CSS_SELECTOR, f\"#frm > div > table > tbody > tr:nth-child({i}) > td:nth-child(2) > div > a > img\")))\n",
    "\n",
    "    link_list.append(img.get_attribute('src'))\n",
    "\n",
    "print(link_list)"
   ]
  },
  {
   "cell_type": "markdown",
   "metadata": {},
   "source": [
    "- 나의 디렉토리에 img 폴더 생성후 실행해 주자"
   ]
  },
  {
   "cell_type": "code",
   "execution_count": 119,
   "metadata": {},
   "outputs": [
    {
     "name": "stdout",
     "output_type": "stream",
     "text": [
      "/Users/kenken\n"
     ]
    }
   ],
   "source": [
    "import os\n",
    "print (os.getcwd())"
   ]
  },
  {
   "cell_type": "code",
   "execution_count": 120,
   "metadata": {},
   "outputs": [],
   "source": [
    "import urllib.request\n",
    "\n",
    "count = 0\n",
    "for link in link_list:\n",
    "    count += 1\n",
    "    urllib.request.urlretrieve(link, './img/img' + str(count) + '.jpg')"
   ]
  },
  {
   "cell_type": "code",
   "execution_count": 130,
   "metadata": {},
   "outputs": [],
   "source": [
    "from IPython.display import Image, display\n"
   ]
  },
  {
   "cell_type": "code",
   "execution_count": 135,
   "metadata": {},
   "outputs": [
    {
     "data": {
      "image/jpeg": "[encoded data removed]",
      "text/plain": [
       "<IPython.core.display.Image object>"
      ]
     },
     "metadata": {},
     "output_type": "display_data"
    },
    {
     "data": {
      "image/jpeg": "[encoded data removed]",
      "text/plain": [
       "<IPython.core.display.Image object>"
      ]
     },
     "metadata": {},
     "output_type": "display_data"
    },
    {
     "data": {
      "image/jpeg": "[encoded data removed]",
      "text/plain": [
       "<IPython.core.display.Image object>"
      ]
     },
     "metadata": {},
     "output_type": "display_data"
    }
   ],
   "source": [
    "\n",
    "x = Image('img/img7.jpg') \n",
    "y = Image('img/img6.jpg') \n",
    "z = Image('img/img5.jpg')\n",
    "display(x, y, z)"
   ]
  }
 ],
 "metadata": {
  "kernelspec": {
   "display_name": "Python 3",
   "language": "python",
   "name": "python3"
  },
  "language_info": {
   "codemirror_mode": {
    "name": "ipython",
    "version": 3
   },
   "file_extension": ".py",
   "mimetype": "text/x-python",
   "name": "python",
   "nbconvert_exporter": "python",
   "pygments_lexer": "ipython3",
   "version": "3.8.0"
  }
 },
 "nbformat": 4,
 "nbformat_minor": 2
}
